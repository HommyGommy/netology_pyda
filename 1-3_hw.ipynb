{
 "cells": [
  {
   "cell_type": "markdown",
   "metadata": {},
   "source": [
    "## Задание 1"
   ]
  },
  {
   "cell_type": "markdown",
   "metadata": {},
   "source": [
    "Дан список вида:"
   ]
  },
  {
   "cell_type": "code",
   "execution_count": 7,
   "metadata": {},
   "outputs": [
    {
     "data": {
      "text/plain": [
       "103"
      ]
     },
     "execution_count": 7,
     "metadata": {},
     "output_type": "execute_result"
    }
   ],
   "source": [
    "data = [\n",
    "    [13, 25, 23, 34],\n",
    "    [45, 32, 44, 47],\n",
    "    [12, 33, 23, 95],\n",
    "    [13, 53, 34, 35]\n",
    "]\n",
    "\n",
    "def diog_sum(smth):\n",
    "    row_list = []\n",
    "    for x, el in enumerate(data):\n",
    "        row_list.append(el[x])\n",
    "    return sum(row_list)\n",
    "\n",
    "diog_sum(data)"
   ]
  },
  {
   "cell_type": "markdown",
   "metadata": {},
   "source": [
    "Напишите функцию, которая возвращает сумму элементов на диагонали. Т. е. 13+32+23+35."
   ]
  },
  {
   "cell_type": "markdown",
   "metadata": {},
   "source": [
    "## Задание 2"
   ]
  },
  {
   "cell_type": "markdown",
   "metadata": {},
   "source": [
    "Дан список чисел, часть из которых имеют строковый тип или содержат буквы. Напишите функцию, которая возвращает сумму квадратов элементов, которые могут быть числами."
   ]
  },
  {
   "cell_type": "code",
   "execution_count": 5,
   "metadata": {},
   "outputs": [
    {
     "data": {
      "text/plain": [
       "430"
      ]
     },
     "execution_count": 5,
     "metadata": {},
     "output_type": "execute_result"
    }
   ],
   "source": [
    "data = [1, '5', 'abc', 20, '2']\n",
    "\n",
    "\n",
    "def sum_square(sum_of, power=2):\n",
    "      \n",
    "    new_list = []\n",
    "    \n",
    "    for x, element in enumerate(data):\n",
    "        if type(element) == int or type(element) == float or element.isdigit():\n",
    "            new_list.append(int(element) ** power)\n",
    "            \n",
    "    sum_of = sum(new_list)\n",
    "    return sum_of\n",
    "                  \n",
    "sum_square(data)"
   ]
  },
  {
   "cell_type": "markdown",
   "metadata": {},
   "source": [
    "## Задание 3"
   ]
  },
  {
   "cell_type": "markdown",
   "metadata": {},
   "source": [
    "Напишите функцию, возвращающую сумму первых n чисел Фибоначчи."
   ]
  },
  {
   "cell_type": "code",
   "execution_count": 2,
   "metadata": {},
   "outputs": [
    {
     "data": {
      "text/plain": [
       "28657"
      ]
     },
     "execution_count": 2,
     "metadata": {},
     "output_type": "execute_result"
    }
   ],
   "source": [
    "def Feb(n):\n",
    "\n",
    "    if n < 0:\n",
    "        print(\"Please try again\")\n",
    "    elif n == 1:\n",
    "        return 0\n",
    "    elif n == 2:\n",
    "        return 1\n",
    "    else:\n",
    "        return Feb(n-1) + Feb(n-2)\n",
    "    \n",
    "Feb(24)"
   ]
  },
  {
   "cell_type": "markdown",
   "metadata": {},
   "source": [
    "## Задание 4"
   ]
  },
  {
   "cell_type": "markdown",
   "metadata": {},
   "source": [
    "Дан набор данных об обучении студентов на курсе программирования, который содержит: \n",
    "1) имя\n",
    "2) фамилию \n",
    "3) пол \n",
    "4) наличие у студента опыта в программировании \n",
    "5) набор оценок за домашние работы \n",
    "6) оценку за итоговую работу.\n",
    "\n",
    "Напишите программу, которая будет принимать команду от пользователя и возвращать соотвествующий результат.\n",
    "Список команд: \n",
    "1 - вывести на экран среднюю оценку за все ДЗ по группе и вывести на экран среднюю оценку за экзамен по группе;\n",
    "2 - вывести среднюю оценку за ДЗ и за экзамен по группе в разрезе пола студентов\n",
    "3 - вывести среднюю оценку за ДЗ и за экзамен в разрезе наличия опыта в программировании у студентов.\n",
    "\n",
    "Прогрмма должна быть полностью декомпозирована на функции (кроме объявления функций и вызова итоговой функции в реализации ничего быть не должно)."
   ]
  },
  {
   "cell_type": "code",
   "execution_count": 1,
   "metadata": {},
   "outputs": [],
   "source": [
    "students_list = [\n",
    "    {'name': 'Василий', 'surname': 'Теркин', 'sex': 'м', 'program_exp': True, 'grade': [8, 8, 9, 10, 9], 'exam': 9},\n",
    "    {'name': 'Мария', 'surname': 'Павлова', 'sex': 'ж', 'program_exp': True, 'grade': [7, 8, 9, 7, 9], 'exam': 8},\n",
    "    {'name': 'Ирина', 'surname': 'Андреева', 'sex': 'ж', 'program_exp': True, 'grade': [10, 9, 8, 10, 10], 'exam': 10},\n",
    "    {'name': 'Татьяна', 'surname': 'Сидорова', 'sex': 'ж', 'program_exp': True, 'grade': [7, 8, 8, 9, 8], 'exam': 8},\n",
    "    {'name': 'Иван', 'surname': 'Васильев', 'sex': 'ж', 'program_exp': True, 'grade': [9, 8, 9, 6, 9], 'exam': 10},\n",
    "    {'name': 'Роман', 'surname': 'Золотарев', 'sex': 'ж', 'program_exp': False, 'grade': [8, 9, 9, 6, 9], 'exam': 10}\n",
    "]"
   ]
  },
  {
   "cell_type": "code",
   "execution_count": 3,
   "metadata": {},
   "outputs": [
    {
     "name": "stdout",
     "output_type": "stream",
     "text": [
      "Choose a command:1\n",
      "Average homework grade per group  8.43\n",
      "Average exam grade per group  9.17\n",
      "Choose a command:2\n",
      "Average homework grade among men  8.8\n",
      "Average exam grade among men  9.0\n",
      "Choose a command:3\n",
      "Average homework grade among experienced students  8.48\n",
      "Average exam grade among experienced students  9.0\n",
      "Choose a command:q\n",
      "Thank you!\n"
     ]
    }
   ],
   "source": [
    "def mean_by_group(students):\n",
    "    homework_mean = 0\n",
    "    exams_mean = 0\n",
    "    for student in students:\n",
    "        homework_mean += sum(student['grade']) / len(student['grade'])\n",
    "        exams_mean += student['exam'] \n",
    "\n",
    "    print('Average homework grade per group ', round(homework_mean / len(student), 2))\n",
    "    print('Average exam grade per group ', round(exams_mean / len(student), 2))\n",
    "\n",
    "\n",
    "def mean_by_gender(students, sex='м'):\n",
    "    homework_mean = 0\n",
    "    exams_mean = 0\n",
    "    student_filter = 0\n",
    "    for student in students:\n",
    "        if student['sex'] == 'м':\n",
    "            homework_mean += sum(student['grade']) / len(student['grade'])\n",
    "            exams_mean += student['exam'] \n",
    "            student_filter += 1\n",
    "    if sex == 'м':\n",
    "        print('Average homework grade among men ', round(homework_mean / student_filter, 2))\n",
    "        print('Average exam grade among men ', round(exams_mean / student_filter, 2))\n",
    "    else:\n",
    "        print('Average homework grade among women ', round(homework_mean / student_filter, 2))\n",
    "        print('Average exam grade among women ', round(exams_mean / student_filter, 2))\n",
    "\n",
    "def mean_by_exp(students, exp=True):\n",
    "    homework_mean = 0\n",
    "    exams_mean = 0\n",
    "    student_filter = 0\n",
    "    for student in students:\n",
    "        if student['program_exp'] == True:\n",
    "            homework_mean += sum(student['grade']) / len(student['grade'])\n",
    "            exams_mean += student['exam'] \n",
    "            student_filter += 1\n",
    "    if exp == True:\n",
    "        print('Average homework grade among experienced students ', round(homework_mean / student_filter, 2))\n",
    "        print('Average exam grade among experienced students ', round(exams_mean / student_filter, 2))\n",
    "    elif exp == False:\n",
    "        print('Average homework grade among unexperienced students ', round(homework_mean / student_filter, 2))\n",
    "        print('Average exam grade among unexperienced students ', round(exams_mean / student_filter, 2))\n",
    "\n",
    "\n",
    "def main():        \n",
    "    while True:\n",
    "        user_input = input('Choose a command:')\n",
    "        if user_input == '1':\n",
    "            mean_by_group(students_list)\n",
    "        elif user_input == '2':\n",
    "            mean_by_gender(students_list)\n",
    "        elif user_input == '3':\n",
    "            mean_by_exp(students_list)\n",
    "        elif user_input == 'q':\n",
    "            print('Thank you!')\n",
    "            break\n",
    "main()"
   ]
  }
 ],
 "metadata": {
  "kernelspec": {
   "display_name": "Python 3",
   "language": "python",
   "name": "python3"
  },
  "language_info": {
   "codemirror_mode": {
    "name": "ipython",
    "version": 3
   },
   "file_extension": ".py",
   "mimetype": "text/x-python",
   "name": "python",
   "nbconvert_exporter": "python",
   "pygments_lexer": "ipython3",
   "version": "3.7.3"
  }
 },
 "nbformat": 4,
 "nbformat_minor": 2
}
