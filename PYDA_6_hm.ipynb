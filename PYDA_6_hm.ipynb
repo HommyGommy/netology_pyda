{
 "cells": [
  {
   "cell_type": "code",
   "execution_count": 28,
   "metadata": {},
   "outputs": [
    {
     "data": {
      "text/plain": [
       "318    153\n",
       "Name: movieId, dtype: int64"
      ]
     },
     "execution_count": 28,
     "metadata": {},
     "output_type": "execute_result"
    }
   ],
   "source": [
    "# Задание 1\n",
    "# Скачайте с сайта https://grouplens.org/datasets/movielens/ датасет любого размера.\n",
    "# Определите какому фильму было выставлено больше всего оценок 5.0.\n",
    "\n",
    "import pandas as pd\n",
    "\n",
    "data = pd.read_csv('/Users/mariadolgova/Downloads/ml-latest-small/ratings.csv')\n",
    "\n",
    "filtered_movies = data[ data['rating']== 5.0]\n",
    "\n",
    "filtered_movies['movieId'].value_counts().head(1)"
   ]
  },
  {
   "cell_type": "code",
   "execution_count": 48,
   "metadata": {},
   "outputs": [
    {
     "data": {
      "text/plain": [
       "118284.0"
      ]
     },
     "execution_count": 48,
     "metadata": {},
     "output_type": "execute_result"
    }
   ],
   "source": [
    "# Задание 2\n",
    "# По данным файла power.csv посчитайте суммарное потребление стран Прибалтики\n",
    "# (Латвия, Литва и Эстония) категорий 4, 12 и 21 за период с 2005 по 2010 года.\n",
    "# Не учитывайте в расчетах отрицательные значения quantity.\n",
    "\n",
    "data2 = pd.read_csv('/Users/mariadolgova/Downloads/ml-latest-small/power.csv')\n",
    "\n",
    "data2.head(15)\n",
    "filtered = data2[ ((data2['country']== 'Latvia') | (data2['country']== 'Litva') | (data2['country']== 'Estonia')) &\n",
    "                 ((data2['category']== 4) | (data2['category']== 12) | (data2['category']== 21)) &\n",
    "                 ((data2['year'] >= 2005) & (data2['year'] <= 2010))]\n",
    "\n",
    "filtered['quantity'].sum()"
   ]
  },
  {
   "cell_type": "code",
   "execution_count": 57,
   "metadata": {},
   "outputs": [
    {
     "data": {
      "text/html": [
       "<div>\n",
       "<style scoped>\n",
       "    .dataframe tbody tr th:only-of-type {\n",
       "        vertical-align: middle;\n",
       "    }\n",
       "\n",
       "    .dataframe tbody tr th {\n",
       "        vertical-align: top;\n",
       "    }\n",
       "\n",
       "    .dataframe thead tr th {\n",
       "        text-align: left;\n",
       "    }\n",
       "</style>\n",
       "<table border=\"1\" class=\"dataframe\">\n",
       "  <thead>\n",
       "    <tr>\n",
       "      <th></th>\n",
       "      <th colspan=\"7\" halign=\"left\">Сентябрь</th>\n",
       "    </tr>\n",
       "    <tr>\n",
       "      <th></th>\n",
       "      <th>Пн</th>\n",
       "      <th>Вт</th>\n",
       "      <th>Ср</th>\n",
       "      <th>Чт</th>\n",
       "      <th>Пт</th>\n",
       "      <th>Сб</th>\n",
       "      <th>Вс</th>\n",
       "    </tr>\n",
       "  </thead>\n",
       "  <tbody>\n",
       "    <tr>\n",
       "      <th>0</th>\n",
       "      <td>NaN</td>\n",
       "      <td>NaN</td>\n",
       "      <td>NaN</td>\n",
       "      <td>NaN</td>\n",
       "      <td>NaN</td>\n",
       "      <td>NaN</td>\n",
       "      <td>1.0</td>\n",
       "    </tr>\n",
       "    <tr>\n",
       "      <th>1</th>\n",
       "      <td>2.0</td>\n",
       "      <td>3.0</td>\n",
       "      <td>4.0</td>\n",
       "      <td>5.0</td>\n",
       "      <td>6.0</td>\n",
       "      <td>7.0</td>\n",
       "      <td>8.0</td>\n",
       "    </tr>\n",
       "    <tr>\n",
       "      <th>2</th>\n",
       "      <td>9.0</td>\n",
       "      <td>10.0</td>\n",
       "      <td>11.0</td>\n",
       "      <td>12.0</td>\n",
       "      <td>13.0</td>\n",
       "      <td>14.0</td>\n",
       "      <td>15.0</td>\n",
       "    </tr>\n",
       "    <tr>\n",
       "      <th>3</th>\n",
       "      <td>16.0</td>\n",
       "      <td>17.0</td>\n",
       "      <td>18.0</td>\n",
       "      <td>19.0</td>\n",
       "      <td>20.0</td>\n",
       "      <td>21.0</td>\n",
       "      <td>22.0</td>\n",
       "    </tr>\n",
       "    <tr>\n",
       "      <th>4</th>\n",
       "      <td>23.0</td>\n",
       "      <td>24.0</td>\n",
       "      <td>25.0</td>\n",
       "      <td>26.0</td>\n",
       "      <td>27.0</td>\n",
       "      <td>28.0</td>\n",
       "      <td>29.0</td>\n",
       "    </tr>\n",
       "    <tr>\n",
       "      <th>5</th>\n",
       "      <td>30.0</td>\n",
       "      <td>NaN</td>\n",
       "      <td>NaN</td>\n",
       "      <td>NaN</td>\n",
       "      <td>NaN</td>\n",
       "      <td>NaN</td>\n",
       "      <td>NaN</td>\n",
       "    </tr>\n",
       "  </tbody>\n",
       "</table>\n",
       "</div>"
      ],
      "text/plain": [
       "  Сентябрь                                    \n",
       "        Пн    Вт    Ср    Чт    Пт    Сб    Вс\n",
       "0      NaN   NaN   NaN   NaN   NaN   NaN   1.0\n",
       "1      2.0   3.0   4.0   5.0   6.0   7.0   8.0\n",
       "2      9.0  10.0  11.0  12.0  13.0  14.0  15.0\n",
       "3     16.0  17.0  18.0  19.0  20.0  21.0  22.0\n",
       "4     23.0  24.0  25.0  26.0  27.0  28.0  29.0\n",
       "5     30.0   NaN   NaN   NaN   NaN   NaN   NaN"
      ]
     },
     "execution_count": 57,
     "metadata": {},
     "output_type": "execute_result"
    }
   ],
   "source": [
    "# Задание 3\n",
    "# Выберите страницу любого сайта с табличными данными. Импортируйте таблицы в pandas dataframe.\n",
    "\n",
    "pd.read_html('https://www.moex.com')[3]"
   ]
  }
 ],
 "metadata": {
  "kernelspec": {
   "display_name": "Python 3",
   "language": "python",
   "name": "python3"
  },
  "language_info": {
   "codemirror_mode": {
    "name": "ipython",
    "version": 3
   },
   "file_extension": ".py",
   "mimetype": "text/x-python",
   "name": "python",
   "nbconvert_exporter": "python",
   "pygments_lexer": "ipython3",
   "version": "3.7.3"
  }
 },
 "nbformat": 4,
 "nbformat_minor": 2
}
