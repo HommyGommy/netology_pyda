{
 "cells": [
  {
   "cell_type": "code",
   "execution_count": null,
   "metadata": {},
   "outputs": [],
   "source": [
    "# Задание 1\n",
    "# Напишите функцию date_range, которая возвращает список дней между датами start_date и end_date.\n",
    "# Даты должны вводиться в формате YYYY-MM-DD.\n",
    "\n",
    "from datetime import datetime\n",
    "from datetime import timedelta\n",
    "\n",
    "def date_range():\n",
    "    start_date = '2019-01-01'\n",
    "    end_date = '2019-01-05'\n",
    "    start_date_dt = datetime.strptime(start_date, '%Y-%m-%d')\n",
    "    end_date_dt = datetime.strptime(end_date, '%Y-%m-%d')\n",
    "    days_list = []\n",
    "    \n",
    "    while start_date_dt < end_date_dt:\n",
    "        day = datetime.strftime(start_date_dt, '%Y-%m-%d')\n",
    "        days_list.append(day)\n",
    "        start_date_dt += timedelta(days=1)\n",
    "    print(days_list)\n",
    "    \n",
    "date_range()"
   ]
  },
  {
   "cell_type": "code",
   "execution_count": 16,
   "metadata": {},
   "outputs": [
    {
     "name": "stdout",
     "output_type": "stream",
     "text": [
      "['2019-01-01', '2019-01-02', '2019-01-03', '2019-01-04', '2019-01-05', '2019-01-06', '2019-01-07', '2019-01-08', '2019-01-09', '2019-01-10', '2019-01-11', '2019-01-12', '2019-01-13', '2019-01-14']\n"
     ]
    }
   ],
   "source": [
    "# Задание 2\n",
    "# Дополните функцию из первого задания проверкой на корректность дат.\n",
    "# В случае неверного формата или если start_date > end_date должен возвращаться пустой список.\n",
    "\n",
    "from datetime import datetime\n",
    "from datetime import timedelta\n",
    "\n",
    "def date_range():\n",
    "    start_date = '2019-01-01'\n",
    "    end_date = '2019-01-15'\n",
    "    start_date_dt = datetime.strptime(start_date, '%Y-%m-%d')\n",
    "    end_date_dt = datetime.strptime(end_date, '%Y-%m-%d')\n",
    "    days_list = []\n",
    "    empty_list = []\n",
    "\n",
    "    try:\n",
    "        while start_date_dt < end_date_dt:\n",
    "            day = datetime.strftime(start_date_dt, '%Y-%m-%d')\n",
    "            days_list.append(day)\n",
    "            start_date_dt += timedelta(days=1)\n",
    "        print(days_list)\n",
    "    except:\n",
    "        print(empty_list)\n",
    "\n",
    "date_range()"
   ]
  },
  {
   "cell_type": "code",
   "execution_count": 51,
   "metadata": {},
   "outputs": [
    {
     "name": "stdout",
     "output_type": "stream",
     "text": [
      "True\n",
      "False\n",
      "False\n"
     ]
    }
   ],
   "source": [
    "# Задание 3\n",
    "# Дан поток дат в формате YYYY-MM-DD, в которых встречаются некорректные значения:\n",
    "# stream = [‘2018-04-02’, ‘2018-02-29’, ‘2018-19-02’]\n",
    "# Напишите функцию, которая проверяет эти даты на корректность.\n",
    "# Т. е. для каждой даты возвращает True (дата корректна) или False (некорректная дата).\n",
    "\n",
    "from datetime import datetime\n",
    "from datetime import timedelta\n",
    "\n",
    "stream = ['2018-04-02', '2018-02-29', '2018-19-02']\n",
    "\n",
    "def dates_check():\n",
    "    \n",
    "    for date in stream:\n",
    "        try:\n",
    "            datetime.strptime(date,'%Y-%m-%d')\n",
    "            print(True)\n",
    "        except ValueError:\n",
    "            print(False)\n",
    "        \n",
    "dates_check()"
   ]
  },
  {
   "cell_type": "code",
   "execution_count": 74,
   "metadata": {},
   "outputs": [
    {
     "name": "stdout",
     "output_type": "stream",
     "text": [
      "Check number of columns\n"
     ]
    }
   ],
   "source": [
    "# Задание 5\n",
    "# В последнем примере поиска по словарю мы использовали 3 столбца.\n",
    "# Напишите функцию, которая формирует словарь для поиска по n столбцам.\n",
    "\n",
    "def some_foo():\n",
    "\n",
    "    n = 4\n",
    "    stats_dict = {}\n",
    "\n",
    "    try:\n",
    "        with open('/Users/mariadolgova/Downloads/Python_9_Оптимизация_вычислений_в_Python_и_большие_данные/stats.csv') as f:\n",
    "            for line in f:\n",
    "                line = line.strip().split(',')\n",
    "                stats_dict[tuple(line[:n])] = line[n]\n",
    "\n",
    "            for key, value in stats_dict.items():\n",
    "                print(key, value)\n",
    "                break\n",
    "    except:\n",
    "        print('Check number of columns')\n",
    "        \n",
    "some_foo()"
   ]
  }
 ],
 "metadata": {
  "kernelspec": {
   "display_name": "Python 3",
   "language": "python",
   "name": "python3"
  },
  "language_info": {
   "codemirror_mode": {
    "name": "ipython",
    "version": 3
   },
   "file_extension": ".py",
   "mimetype": "text/x-python",
   "name": "python",
   "nbconvert_exporter": "python",
   "pygments_lexer": "ipython3",
   "version": "3.7.3"
  }
 },
 "nbformat": 4,
 "nbformat_minor": 2
}
