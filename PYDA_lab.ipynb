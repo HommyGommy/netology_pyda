{
 "cells": [
  {
   "cell_type": "code",
   "execution_count": 59,
   "metadata": {},
   "outputs": [
    {
     "data": {
      "text/plain": [
       "['man', 'my', 'mean', 'make', 'm', 'matters.']"
      ]
     },
     "execution_count": 59,
     "metadata": {},
     "output_type": "execute_result"
    }
   ],
   "source": [
    "# Задача 1 \n",
    "\n",
    "# Дана строка \n",
    "\n",
    "string_01 = \"Mama, just killed a man, put a gun against his head, pulled my trigger, now he's dead. Mama, life had just begun, but now I've gone and thrown it all away. Mama, ooh (any way the wind blows), didn't mean to make you cry. If I'm not back again this time tomorrow carry on, carry on as if nothing really matters.\"\n",
    "\n",
    "# 1.Посчитайте, сколько в строке символов (исключая пробелы).\n",
    "len(string_01) - string_01.count(' ')\n",
    "\n",
    "# 2.Посчитайте, сколько в строке слов.\n",
    "len(string_01.replace(\",\" , \" \").replace(\"'\", \" \").replace(\"  \", \" \").split(\" \"))\n",
    "\n",
    "# 3.Напишите функцию, которая будет принимать в качестве аргумента букву и выводить все слова из строки,\n",
    "# заканчивающиеся на эту букву (например, “s”).\n",
    "def words_end(letter):\n",
    "    filtered_list = []\n",
    "    cleared_list = string_01.replace(\",\" , \" \").replace(\"'\", \" \").replace(\"  \", \" \").split(\" \")\n",
    "    for word in cleared_list:\n",
    "        if word[-1] == letter:\n",
    "            filtered_list.append(word)\n",
    "        else:\n",
    "            pass\n",
    "    return filtered_list\n",
    "\n",
    "words_end('s')\n",
    "\n",
    "# 4.Не обязательно: Напишите функцию, которая будет принимать в качестве аргумента букву и\n",
    "# выводить все слова из строки, начинающиеся на эту букву (например, “m”).\n",
    "def words_start(letter):\n",
    "    filtered_list = []\n",
    "    cleared_list = string_01.replace(\",\" , \" \").replace(\"'\", \" \").replace(\"  \", \" \").split(\" \")\n",
    "    for word in cleared_list:\n",
    "        if word[0] == letter:\n",
    "            filtered_list.append(word)\n",
    "        else:\n",
    "            pass\n",
    "    return filtered_list\n",
    "\n",
    "words_start('m')"
   ]
  },
  {
   "cell_type": "code",
   "execution_count": 72,
   "metadata": {},
   "outputs": [
    {
     "data": {
      "text/plain": [
       "'314794'"
      ]
     },
     "execution_count": 72,
     "metadata": {},
     "output_type": "execute_result"
    }
   ],
   "source": [
    "# Задача 2\n",
    "# Напишите код, который будет генерировать случайную последовательность из 6 цифр,одна из которых должна быть 3.\n",
    "# Позиция цифры 3 должна определяться случайным образом.\n",
    "# Результат должен быть строкой. Например: \"456309\" или \"330127\".\n",
    "\n",
    "import numpy as np\n",
    "n = 3\n",
    "\n",
    "def random_with_condition():\n",
    "    \n",
    "    numbers = list(range(100000,999999))\n",
    "    numbers_with_condition = []\n",
    "\n",
    "    for element in numbers:\n",
    "        if str(n) in str(element):\n",
    "            numbers_with_condition.append(element)\n",
    "\n",
    "    return str(np.random.choice(numbers_with_condition))\n",
    "\n",
    "random_with_condition()  \n"
   ]
  },
  {
   "cell_type": "code",
   "execution_count": 73,
   "metadata": {},
   "outputs": [
    {
     "name": "stdout",
     "output_type": "stream",
     "text": [
      "212\n"
     ]
    }
   ],
   "source": [
    "# Задача 3 \n",
    "# Напишите алгоритм, который выводит сумму элементов списка, которые больше 10, но меньше 100.\n",
    "\n",
    "list_01 = [1, 1, 2, 3, 5, 8, 13, 21, 34, 55, 89, 144, 233, 377, 610]\n",
    "counter = 0\n",
    "\n",
    "for el in list_01:\n",
    "    if el > 10 and el <100:\n",
    "        counter += el\n",
    "        \n",
    "print(counter)"
   ]
  },
  {
   "cell_type": "code",
   "execution_count": 114,
   "metadata": {},
   "outputs": [
    {
     "data": {
      "text/plain": [
       "[['Антонов', 'Антон', 'Игоревич'],\n",
       " ['Степанова', 'Наталья', 'Александровна'],\n",
       " ['Боков', 'Игорь', 'Харитонович']]"
      ]
     },
     "execution_count": 114,
     "metadata": {},
     "output_type": "execute_result"
    }
   ],
   "source": [
    "# Задача 4 Данные студентов представлены в виде списка списков:\n",
    "\n",
    "students = [[\"0001\", \"Антонов\", \"Антон\", \"Игоревич\", \"20.08.2009\", \"БСТ161\"], \n",
    "            [\"1102\", \"Богов\", \"Артем\", \"Игоревич\", \"25.01.2010\", \"БСТ162\"],\n",
    "            [\"0333\", \"Глаголева\", \"Анастасия\", \"Николаевна\", \"11.07.2009\", \"БСТ163\"],\n",
    "            [\"4004\", \"Степанова\", \"Наталья\", \"Александровна\", \"13.02.2008\", \"БСТ161\"],\n",
    "            [\"0045\", \"Боков\", \"Игорь\", \"Харитонович\", \"02.06.2009\", \"БСТ161\"],\n",
    "            [\"0096\", \"Васильков\", \"Валентин\", \"Сергеевич\", \"20.03.2009\", \"БСТ164\"],\n",
    "            [\"0607\", \"Сиропова\", \"Виолетта\", \"Эдуардовна\", \"28.05.2010\", \"БСТ162\"],\n",
    "            [\"0309\", \"Шафутинский\", \"Михаил\", \"Михайлович\", \"03.09.2007\", \"БСТ163\"]]\n",
    "\n",
    "# 1.Преобразуйте данные таким образом, чтобы они были представлены в виде словаря,\n",
    "# в котором ключами являются номера студентов, а значениями — список из других данных о студентах.\n",
    "\n",
    "keys = []\n",
    "values = []\n",
    "\n",
    "for row in students:\n",
    "    keys.append(row[0])\n",
    "    values.append(row[1:])\n",
    "    \n",
    "dict(zip(keys,values))\n",
    "\n",
    "# 2.Напишите функцию, которая принимает в качестве аргумента номер студента и новый номер группы и\n",
    "# позволяет изменить номер группы этого студента на новый.\n",
    "\n",
    "def change_group(student_id, new_group):\n",
    "    keys = []\n",
    "    values = []\n",
    "\n",
    "    for row in students:\n",
    "        keys.append(row[0])\n",
    "        values.append(row[1:])\n",
    "    \n",
    "    new_dict = dict(zip(keys,values))\n",
    "    new_dict[student_id][4] = new_group\n",
    "    return new_dict\n",
    "    \n",
    "change_group('0001','БСТ164')\n",
    "\n",
    "# 3.Напишите функцию, которая принимает номер группы и выводит список\n",
    "# (фамилии, имена, отчества)всех студентов этой группы.\n",
    "\n",
    "def names(group):\n",
    "    keys = []\n",
    "    values = []\n",
    "    group_list = []\n",
    "\n",
    "    for row in students:\n",
    "        keys.append(row[0])\n",
    "        values.append(row[1:])\n",
    "\n",
    "    new_dict = dict(zip(keys,values))\n",
    "    \n",
    "    for each_key in new_dict:\n",
    "        if group in new_dict[each_key]:\n",
    "            group_list.append(new_dict[each_key][0:3])\n",
    "            \n",
    "    return group_list\n",
    "\n",
    "names('БСТ161')"
   ]
  },
  {
   "cell_type": "code",
   "execution_count": 120,
   "metadata": {},
   "outputs": [
    {
     "data": {
      "text/plain": [
       "20"
      ]
     },
     "execution_count": 120,
     "metadata": {},
     "output_type": "execute_result"
    }
   ],
   "source": [
    "# Задача 5 Дана матрица:\n",
    "\n",
    "import numpy as np\n",
    "\n",
    "matrix = [[0, 1, 2, 4, 8],\n",
    "          [6, 2, 2, 1, 9],\n",
    "          [3, 3, 3, 3, 3],\n",
    "          [4, 6, 7, 1, 2],\n",
    "          [5, 7, 3, 4, 0]]\n",
    "\n",
    "# 1.Выведите результат сложения всех элементов матрицы.\n",
    "np.sum(matrix)\n",
    "\n",
    "# 2.Напишите алгоритм вычисления максимума из сумм элементов каждого столбца.\n",
    "\n",
    "def column_sum():\n",
    "    \n",
    "    column_sum = []\n",
    "    for row in matrix:\n",
    "        column_sum.append(np.sum(row))\n",
    "        \n",
    "    return np.max(column_sum)\n",
    "\n",
    "column_sum()\n"
   ]
  }
 ],
 "metadata": {
  "kernelspec": {
   "display_name": "Python 3",
   "language": "python",
   "name": "python3"
  },
  "language_info": {
   "codemirror_mode": {
    "name": "ipython",
    "version": 3
   },
   "file_extension": ".py",
   "mimetype": "text/x-python",
   "name": "python",
   "nbconvert_exporter": "python",
   "pygments_lexer": "ipython3",
   "version": "3.7.3"
  }
 },
 "nbformat": 4,
 "nbformat_minor": 2
}
